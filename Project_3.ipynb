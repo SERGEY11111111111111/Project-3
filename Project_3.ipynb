{
  "nbformat": 4,
  "nbformat_minor": 0,
  "metadata": {
    "colab": {
      "provenance": [],
      "mount_file_id": "1-WL7XgsVt8d1lGz6BgAyTpDb1H8vDK4O",
      "authorship_tag": "ABX9TyMW8MhsKLGG2SREji+aUxxl",
      "include_colab_link": true
    },
    "kernelspec": {
      "name": "python3",
      "display_name": "Python 3"
    },
    "language_info": {
      "name": "python"
    }
  },
  "cells": [
    {
      "cell_type": "markdown",
      "metadata": {
        "id": "view-in-github",
        "colab_type": "text"
      },
      "source": [
        "<a href=\"https://colab.research.google.com/github/SERGEY11111111111111/Project-3/blob/master/Project_3.ipynb\" target=\"_parent\"><img src=\"https://colab.research.google.com/assets/colab-badge.svg\" alt=\"Open In Colab\"/></a>"
      ]
    },
    {
      "cell_type": "code",
      "source": [
        "from google.colab import drive\n",
        "drive.mount('/content/drive')\n",
        "import pandas as pd\n",
        "import numpy as np\n",
        "hotels = pd.read_csv('/content/drive/MyDrive/skillfac/EDA/project 3/hotels.csv')\n",
        "pd.options.display.max_colwidth = 150\n",
        "hotels.info()"
      ],
      "metadata": {
        "colab": {
          "base_uri": "https://localhost:8080/"
        },
        "id": "80uW5gXf-7xK",
        "outputId": "2accabe6-7125-47f7-fe1f-d19b89a1b5bb"
      },
      "execution_count": 526,
      "outputs": [
        {
          "output_type": "stream",
          "name": "stdout",
          "text": [
            "Drive already mounted at /content/drive; to attempt to forcibly remount, call drive.mount(\"/content/drive\", force_remount=True).\n",
            "<class 'pandas.core.frame.DataFrame'>\n",
            "RangeIndex: 386803 entries, 0 to 386802\n",
            "Data columns (total 17 columns):\n",
            " #   Column                                      Non-Null Count   Dtype  \n",
            "---  ------                                      --------------   -----  \n",
            " 0   hotel_address                               386803 non-null  object \n",
            " 1   additional_number_of_scoring                386803 non-null  int64  \n",
            " 2   review_date                                 386803 non-null  object \n",
            " 3   average_score                               386803 non-null  float64\n",
            " 4   hotel_name                                  386803 non-null  object \n",
            " 5   reviewer_nationality                        386803 non-null  object \n",
            " 6   negative_review                             386803 non-null  object \n",
            " 7   review_total_negative_word_counts           386803 non-null  int64  \n",
            " 8   total_number_of_reviews                     386803 non-null  int64  \n",
            " 9   positive_review                             386803 non-null  object \n",
            " 10  review_total_positive_word_counts           386803 non-null  int64  \n",
            " 11  total_number_of_reviews_reviewer_has_given  386803 non-null  int64  \n",
            " 12  reviewer_score                              386803 non-null  float64\n",
            " 13  tags                                        386803 non-null  object \n",
            " 14  days_since_review                           386803 non-null  object \n",
            " 15  lat                                         384355 non-null  float64\n",
            " 16  lng                                         384355 non-null  float64\n",
            "dtypes: float64(4), int64(5), object(8)\n",
            "memory usage: 50.2+ MB\n"
          ]
        }
      ]
    },
    {
      "cell_type": "markdown",
      "source": [
        "# Создание новых признаков, заполнение пропущенных значений в них, удаление некоторых строковых значений"
      ],
      "metadata": {
        "id": "IQ6HrN5hZt2e"
      }
    },
    {
      "cell_type": "markdown",
      "source": [
        "## Разбор тэгов"
      ],
      "metadata": {
        "id": "4439-QpHZ53o"
      }
    },
    {
      "cell_type": "markdown",
      "source": [
        "Тэги имеют следующий вид, необходимо переформатировать строки в листы"
      ],
      "metadata": {
        "id": "BPljQT75Z9dc"
      }
    },
    {
      "cell_type": "code",
      "source": [
        "hotels['tags']"
      ],
      "metadata": {
        "colab": {
          "base_uri": "https://localhost:8080/"
        },
        "id": "VBketg1pNNbA",
        "outputId": "0c767086-ce61-4e46-9f72-9d0d8eada2a2"
      },
      "execution_count": 527,
      "outputs": [
        {
          "output_type": "execute_result",
          "data": {
            "text/plain": [
              "0                           [' Leisure trip ', ' Couple ', ' Studio Suite ', ' Stayed 2 nights ', ' Submitted from a mobile device ']\n",
              "1                                                       [' Business trip ', ' Couple ', ' Standard Double Room ', ' Stayed 1 night ']\n",
              "2         [' Leisure trip ', ' Solo traveler ', ' Modern Double Room Echo ', ' Stayed 3 nights ', ' Submitted from a mobile device ']\n",
              "3                                      [' Leisure trip ', ' Solo traveler ', ' Standard Room with 1 Double Bed ', ' Stayed 1 night ']\n",
              "4                                              [' Business trip ', ' Couple ', ' Standard Double or Twin Room ', ' Stayed 6 nights ']\n",
              "                                                                     ...                                                             \n",
              "386798           [' Leisure trip ', ' Group ', ' Club Double or Twin Room ', ' Stayed 2 nights ', ' Submitted from a mobile device ']\n",
              "386799              [' Leisure trip ', ' Couple ', ' Standard Double Room ', ' Stayed 4 nights ', ' Submitted from a mobile device ']\n",
              "386800                                                    [' Business trip ', ' Solo traveler ', ' Single Room ', ' Stayed 1 night ']\n",
              "386801                                             [' Leisure trip ', ' Solo traveler ', ' Deluxe Double Room ', ' Stayed 2 nights ']\n",
              "386802                                                         [' Leisure trip ', ' Couple ', ' Bunk Bed Room ', ' Stayed 4 nights ']\n",
              "Name: tags, Length: 386803, dtype: object"
            ]
          },
          "metadata": {},
          "execution_count": 527
        }
      ]
    },
    {
      "cell_type": "markdown",
      "source": [
        "В основном заполнены все тэги, но есть случаи, когда заполнены не все поля, и поэтому просто переставить индексы не получится"
      ],
      "metadata": {
        "id": "LIJ1USugaH2R"
      }
    },
    {
      "cell_type": "code",
      "source": [
        "hotels['tags'].apply(lambda x: len(x.lstrip(\"['\").rstrip(\"']\").split(\"', '\"))).value_counts()"
      ],
      "metadata": {
        "colab": {
          "base_uri": "https://localhost:8080/"
        },
        "id": "m5TEAMnBVpTb",
        "outputId": "6760e7c6-9248-4cd5-9460-cdbfce3094ce"
      },
      "execution_count": 528,
      "outputs": [
        {
          "output_type": "execute_result",
          "data": {
            "text/plain": [
              "5    223455\n",
              "4    158589\n",
              "3      4126\n",
              "6       563\n",
              "2        65\n",
              "1         5\n",
              "Name: tags, dtype: int64"
            ]
          },
          "metadata": {},
          "execution_count": 528
        }
      ]
    },
    {
      "cell_type": "markdown",
      "source": [
        "Таким образом в каждом столбце содержится минимум один тэг"
      ],
      "metadata": {
        "id": "QvUnVWOrv_La"
      }
    },
    {
      "cell_type": "code",
      "source": [
        "data = hotels.copy()"
      ],
      "metadata": {
        "id": "7rMiHJZXf2ja"
      },
      "execution_count": 529,
      "outputs": []
    },
    {
      "cell_type": "markdown",
      "source": [
        "### Разберем первый признак"
      ],
      "metadata": {
        "id": "WjLb-LdGav3Y"
      }
    },
    {
      "cell_type": "markdown",
      "source": [
        "В нем положим информацию о том, является поездка туристической"
      ],
      "metadata": {
        "id": "Ixh1lOthSImT"
      }
    },
    {
      "cell_type": "code",
      "source": [
        "data['tags'].value_counts().head(30)"
      ],
      "metadata": {
        "colab": {
          "base_uri": "https://localhost:8080/"
        },
        "id": "5RebAr6c4jjU",
        "outputId": "caf98bba-6012-474f-d148-d302490ee0cf"
      },
      "execution_count": 530,
      "outputs": [
        {
          "output_type": "execute_result",
          "data": {
            "text/plain": [
              "[' Leisure trip ', ' Couple ', ' Double Room ', ' Stayed 1 night ', ' Submitted from a mobile device ']                      3853\n",
              "[' Leisure trip ', ' Couple ', ' Standard Double Room ', ' Stayed 1 night ', ' Submitted from a mobile device ']             3673\n",
              "[' Leisure trip ', ' Couple ', ' Superior Double Room ', ' Stayed 1 night ', ' Submitted from a mobile device ']             3274\n",
              "[' Leisure trip ', ' Couple ', ' Deluxe Double Room ', ' Stayed 1 night ', ' Submitted from a mobile device ']               2964\n",
              "[' Leisure trip ', ' Couple ', ' Double Room ', ' Stayed 2 nights ', ' Submitted from a mobile device ']                     2454\n",
              "[' Leisure trip ', ' Couple ', ' Superior Double Room ', ' Stayed 2 nights ', ' Submitted from a mobile device ']            2330\n",
              "[' Leisure trip ', ' Couple ', ' Double Room ', ' Stayed 1 night ']                                                          2181\n",
              "[' Leisure trip ', ' Couple ', ' Standard Double Room ', ' Stayed 2 nights ', ' Submitted from a mobile device ']            2163\n",
              "[' Leisure trip ', ' Couple ', ' Standard Double Room ', ' Stayed 1 night ']                                                 1965\n",
              "[' Leisure trip ', ' Couple ', ' Deluxe Double Room ', ' Stayed 2 nights ', ' Submitted from a mobile device ']              1771\n",
              "[' Leisure trip ', ' Couple ', ' Superior Double Room ', ' Stayed 1 night ']                                                 1684\n",
              "[' Leisure trip ', ' Couple ', ' Double Room ', ' Stayed 2 nights ']                                                         1618\n",
              "[' Leisure trip ', ' Couple ', ' Superior Double Room ', ' Stayed 3 nights ', ' Submitted from a mobile device ']            1577\n",
              "[' Leisure trip ', ' Couple ', ' Double Room ', ' Stayed 3 nights ', ' Submitted from a mobile device ']                     1525\n",
              "[' Leisure trip ', ' Couple ', ' Deluxe Double Room ', ' Stayed 1 night ']                                                   1522\n",
              "[' Leisure trip ', ' Couple ', ' Standard Double Room ', ' Stayed 3 nights ', ' Submitted from a mobile device ']            1450\n",
              "[' Leisure trip ', ' Couple ', ' Superior Double Room ', ' Stayed 2 nights ']                                                1352\n",
              "[' Leisure trip ', ' Couple ', ' Double or Twin Room ', ' Stayed 3 nights ', ' Submitted from a mobile device ']             1328\n",
              "[' Leisure trip ', ' Couple ', ' Standard Double Room ', ' Stayed 2 nights ']                                                1264\n",
              "[' Leisure trip ', ' Couple ', ' Classic Double Room ', ' Stayed 1 night ', ' Submitted from a mobile device ']              1210\n",
              "[' Leisure trip ', ' Couple ', ' Classic Double Room ', ' Stayed 2 nights ', ' Submitted from a mobile device ']             1177\n",
              "[' Business trip ', ' Solo traveler ', ' Double Room ', ' Stayed 1 night ']                                                  1166\n",
              "[' Leisure trip ', ' Couple ', ' Double or Twin Room ', ' Stayed 2 nights ', ' Submitted from a mobile device ']             1126\n",
              "[' Leisure trip ', ' Couple ', ' Standard Double or Twin Room ', ' Stayed 3 nights ', ' Submitted from a mobile device ']    1097\n",
              "[' Leisure trip ', ' Couple ', ' Double Room ', ' Stayed 3 nights ']                                                         1079\n",
              "[' Leisure trip ', ' Couple ', ' Double or Twin Room ', ' Stayed 1 night ', ' Submitted from a mobile device ']              1059\n",
              "[' Leisure trip ', ' Couple ', ' Standard Double or Twin Room ', ' Stayed 2 nights ', ' Submitted from a mobile device ']    1053\n",
              "[' Leisure trip ', ' Couple ', ' Deluxe Double Room ', ' Stayed 2 nights ']                                                   995\n",
              "[' Leisure trip ', ' Couple ', ' Standard Double or Twin Room ', ' Stayed 1 night ', ' Submitted from a mobile device ']      986\n",
              "[' Leisure trip ', ' Couple ', ' Deluxe Double Room ', ' Stayed 3 nights ', ' Submitted from a mobile device ']               979\n",
              "Name: tags, dtype: int64"
            ]
          },
          "metadata": {},
          "execution_count": 530
        }
      ]
    },
    {
      "cell_type": "markdown",
      "source": [
        "переведем строку в список и извлечем нужную информацию"
      ],
      "metadata": {
        "id": "nat_KZ9ASS3J"
      }
    },
    {
      "cell_type": "code",
      "source": [
        "def typeget1(tag):\n",
        "   tags = tag.lstrip(\"[' \").rstrip(\" ']\").split(\" ', ' \")\n",
        "   if tags[0] == 'Leisure trip' or tags[0] == 'Business trip':\n",
        "    return tags[0].strip() \n",
        "   elif tags[0] == 'With a pet' and (tags[0] == 'Leisure trip' or tags[0] == 'Business trip'): #в предварительном анализе обнаружено, что информация по типу поездки для клиентов с питомцами, находится во втором значении списка\n",
        "  # сам признак наличия питомца выделять не будем, так как лишь малый процент посетителей приезжают с ними\n",
        "    return tags[1].strip()\n",
        "   else:\n",
        "    return np.nan\n",
        "   #\n",
        "data['trip_type'] = data['tags'].apply(typeget1) "
      ],
      "metadata": {
        "id": "yeQmJADmsfz2"
      },
      "execution_count": 531,
      "outputs": []
    },
    {
      "cell_type": "markdown",
      "source": [
        "заменим пропущенные значения , которых получилось 3,15% модальным значением"
      ],
      "metadata": {
        "id": "0haCjDrE4JLs"
      }
    },
    {
      "cell_type": "code",
      "source": [
        "data['trip_type'].isnull().mean() * 100"
      ],
      "metadata": {
        "colab": {
          "base_uri": "https://localhost:8080/"
        },
        "id": "H7H7RZUb39f5",
        "outputId": "d93698b1-8cb7-4b24-d85a-f78e0d57dc4c"
      },
      "execution_count": 532,
      "outputs": [
        {
          "output_type": "execute_result",
          "data": {
            "text/plain": [
              "3.151216510730268"
            ]
          },
          "metadata": {},
          "execution_count": 532
        }
      ]
    },
    {
      "cell_type": "code",
      "source": [
        "data = data.fillna({'trip_type' : data['trip_type'].mode()[0] })"
      ],
      "metadata": {
        "id": "AwBfSN2DA7aS"
      },
      "execution_count": 533,
      "outputs": []
    },
    {
      "cell_type": "markdown",
      "source": [
        "Оценим предварительно получившийся признак графически: люди на отдыхе в среднем оценивают отели выше"
      ],
      "metadata": {
        "id": "E1mVwXE645Zq"
      }
    },
    {
      "cell_type": "code",
      "source": [
        "import seaborn as sns\n",
        "sns.boxplot(data, x=\"reviewer_score\", y=\"trip_type\")"
      ],
      "metadata": {
        "colab": {
          "base_uri": "https://localhost:8080/",
          "height": 0
        },
        "id": "7K4RsSYi2M68",
        "outputId": "10a159c9-ddf8-4cf8-8529-ba2268cd2e1c"
      },
      "execution_count": 534,
      "outputs": [
        {
          "output_type": "execute_result",
          "data": {
            "text/plain": [
              "<Axes: xlabel='reviewer_score', ylabel='trip_type'>"
            ]
          },
          "metadata": {},
          "execution_count": 534
        },
        {
          "output_type": "display_data",
          "data": {
            "text/plain": [
              "<Figure size 640x480 with 1 Axes>"
            ],
            "image/png": "[encoded data removed]"
          },
          "metadata": {}
        }
      ]
    },
    {
      "cell_type": "markdown",
      "source": [
        "Переведем в булеанов тип данных"
      ],
      "metadata": {
        "id": "FXabLvrKScvG"
      }
    },
    {
      "cell_type": "code",
      "source": [
        "data['trip_type'] = data['trip_type'].apply(lambda x: True if x == 'Leisure trip' else False)"
      ],
      "metadata": {
        "id": "qT_6KNjjBv4z"
      },
      "execution_count": 535,
      "outputs": []
    },
    {
      "cell_type": "code",
      "source": [
        "data['trip_type'].value_counts()"
      ],
      "metadata": {
        "colab": {
          "base_uri": "https://localhost:8080/"
        },
        "id": "KOnSZYFMCDZp",
        "outputId": "e819fda6-b672-4e3e-9f61-4aba5c0f6222"
      },
      "execution_count": 536,
      "outputs": [
        {
          "output_type": "execute_result",
          "data": {
            "text/plain": [
              "True     324957\n",
              "False     61846\n",
              "Name: trip_type, dtype: int64"
            ]
          },
          "metadata": {},
          "execution_count": 536
        }
      ]
    },
    {
      "cell_type": "markdown",
      "source": [
        "### Разберем второй признак"
      ],
      "metadata": {
        "id": "C_uAhrapazfs"
      }
    },
    {
      "cell_type": "markdown",
      "source": [
        "Создадим второй признак по количеству участников поездки"
      ],
      "metadata": {
        "id": "Jz8vQF6QSiVd"
      }
    },
    {
      "cell_type": "code",
      "source": [
        "def typeget2(tag):\n",
        "   tags = tag.lstrip(\"['\").rstrip(\"']\").split(\"', '\")\n",
        "   company = ['Couple', 'Solo traveler', 'Family with young children', 'Group', 'Family with older children', 'Travelers with friends' ]\n",
        "   if tags[0] in company:\n",
        "    return str(tags[0]).strip()\n",
        "   else:\n",
        "     try:\n",
        "      if str(tags[1]).strip() in company:\n",
        "        return str(tags[1]).strip()\n",
        "     except:\n",
        "      return np.nan\n",
        "    \n",
        "\n",
        "data['company_type'] = data['tags'].apply(typeget2)\n",
        "data['company_type'].isnull().mean() * 100"
      ],
      "metadata": {
        "colab": {
          "base_uri": "https://localhost:8080/"
        },
        "id": "Laqe7oI1c0xx",
        "outputId": "49894f82-e855-4c58-fbcb-2ed0e99d35d8"
      },
      "execution_count": 537,
      "outputs": [
        {
          "output_type": "execute_result",
          "data": {
            "text/plain": [
              "3.1313097364808447"
            ]
          },
          "metadata": {},
          "execution_count": 537
        }
      ]
    },
    {
      "cell_type": "code",
      "source": [
        "data['company_type'].value_counts()"
      ],
      "metadata": {
        "colab": {
          "base_uri": "https://localhost:8080/"
        },
        "id": "-PqvFDjRmmGJ",
        "outputId": "f688a805-2151-4ef5-f016-a3be8d7a498d"
      },
      "execution_count": 538,
      "outputs": [
        {
          "output_type": "execute_result",
          "data": {
            "text/plain": [
              "Couple                        184353\n",
              "Solo traveler                  77880\n",
              "Group                          47801\n",
              "Family with young children     44026\n",
              "Family with older children     19046\n",
              "Travelers with friends          1585\n",
              "Name: company_type, dtype: int64"
            ]
          },
          "metadata": {},
          "execution_count": 538
        }
      ]
    },
    {
      "cell_type": "markdown",
      "source": [
        "Оценим признаки предварительно через ящики с усами, результаты согласуются со здравым смыслом: наиболее довольный посетители \"парочки\" и посетители с друзьями, так как они довольны помимо отеля и проведением времени вместе\n",
        "\n",
        "наименее удовлетворены одинокие посетители, так как они бывают наиболее искушенными посетителями, находящимися помимо прочего в командировке (по которой как видно из предыдущих графиков отзывы меньше)"
      ],
      "metadata": {
        "id": "HR8kMuHG9frG"
      }
    },
    {
      "cell_type": "code",
      "source": [
        "sns.boxplot(data, x=\"reviewer_score\", y=\"company_type\")"
      ],
      "metadata": {
        "colab": {
          "base_uri": "https://localhost:8080/",
          "height": 0
        },
        "id": "Zexh9Vr09PKD",
        "outputId": "0ced2c63-93dc-4ebb-b89c-7b4107e0ca05"
      },
      "execution_count": 539,
      "outputs": [
        {
          "output_type": "execute_result",
          "data": {
            "text/plain": [
              "<Axes: xlabel='reviewer_score', ylabel='company_type'>"
            ]
          },
          "metadata": {},
          "execution_count": 539
        },
        {
          "output_type": "display_data",
          "data": {
            "text/plain": [
              "<Figure size 640x480 with 1 Axes>"
            ],
            "image/png": "[encoded data removed]"
          },
          "metadata": {}
        }
      ]
    },
    {
      "cell_type": "markdown",
      "source": [
        "Проверим специализации отелей"
      ],
      "metadata": {
        "id": "IALpCByDUMQU"
      }
    },
    {
      "cell_type": "code",
      "source": [
        "auxilary_data = data.groupby(by= 'hotel_name', as_index=False)['company_type'].agg(pd.Series.mode)"
      ],
      "metadata": {
        "id": "VIOHOu3US7Qn"
      },
      "execution_count": 540,
      "outputs": []
    },
    {
      "cell_type": "code",
      "source": [
        "def auxilary_from_array(mode_value):\n",
        "  try:\n",
        "    mode_value.shape\n",
        "    return mode_value[0]\n",
        "  except:\n",
        "    return mode_value"
      ],
      "metadata": {
        "id": "b5BCgdJdxhoR"
      },
      "execution_count": 541,
      "outputs": []
    },
    {
      "cell_type": "code",
      "source": [
        "auxilary_data"
      ],
      "metadata": {
        "colab": {
          "base_uri": "https://localhost:8080/",
          "height": 0
        },
        "id": "rmrDDfV2yGv1",
        "outputId": "d655a6f9-4615-45f6-a8fc-6a00606e0131"
      },
      "execution_count": 542,
      "outputs": [
        {
          "output_type": "execute_result",
          "data": {
            "text/plain": [
              "                              hotel_name company_type\n",
              "0                     11 Cadogan Gardens       Couple\n",
              "1                               1K Hotel       Couple\n",
              "2     25hours Hotel beim MuseumsQuartier       Couple\n",
              "3                                     41       Couple\n",
              "4     45 Park Lane Dorchester Collection       Couple\n",
              "...                                  ...          ...\n",
              "1487            citizenM London Bankside       Couple\n",
              "1488          citizenM London Shoreditch       Couple\n",
              "1489            citizenM Tower of London       Couple\n",
              "1490              every hotel Piccadilly       Couple\n",
              "1491                   pentahotel Vienna       Couple\n",
              "\n",
              "[1492 rows x 2 columns]"
            ],
            "text/html": [
              "\n",
              "  <div id=\"df-ca6eb900-1c91-4606-b2af-4d8435405944\">\n",
              "    <div class=\"colab-df-container\">\n",
              "      <div>\n",
              "<style scoped>\n",
              "    .dataframe tbody tr th:only-of-type {\n",
              "        vertical-align: middle;\n",
              "    }\n",
              "\n",
              "    .dataframe tbody tr th {\n",
              "        vertical-align: top;\n",
              "    }\n",
              "\n",
              "    .dataframe thead th {\n",
              "        text-align: right;\n",
              "    }\n",
              "</style>\n",
              "<table border=\"1\" class=\"dataframe\">\n",
              "  <thead>\n",
              "    <tr style=\"text-align: right;\">\n",
              "      <th></th>\n",
              "      <th>hotel_name</th>\n",
              "      <th>company_type</th>\n",
              "    </tr>\n",
              "  </thead>\n",
              "  <tbody>\n",
              "    <tr>\n",
              "      <th>0</th>\n",
              "      <td>11 Cadogan Gardens</td>\n",
              "      <td>Couple</td>\n",
              "    </tr>\n",
              "    <tr>\n",
              "      <th>1</th>\n",
              "      <td>1K Hotel</td>\n",
              "      <td>Couple</td>\n",
              "    </tr>\n",
              "    <tr>\n",
              "      <th>2</th>\n",
              "      <td>25hours Hotel beim MuseumsQuartier</td>\n",
              "      <td>Couple</td>\n",
              "    </tr>\n",
              "    <tr>\n",
              "      <th>3</th>\n",
              "      <td>41</td>\n",
              "      <td>Couple</td>\n",
              "    </tr>\n",
              "    <tr>\n",
              "      <th>4</th>\n",
              "      <td>45 Park Lane Dorchester Collection</td>\n",
              "      <td>Couple</td>\n",
              "    </tr>\n",
              "    <tr>\n",
              "      <th>...</th>\n",
              "      <td>...</td>\n",
              "      <td>...</td>\n",
              "    </tr>\n",
              "    <tr>\n",
              "      <th>1487</th>\n",
              "      <td>citizenM London Bankside</td>\n",
              "      <td>Couple</td>\n",
              "    </tr>\n",
              "    <tr>\n",
              "      <th>1488</th>\n",
              "      <td>citizenM London Shoreditch</td>\n",
              "      <td>Couple</td>\n",
              "    </tr>\n",
              "    <tr>\n",
              "      <th>1489</th>\n",
              "      <td>citizenM Tower of London</td>\n",
              "      <td>Couple</td>\n",
              "    </tr>\n",
              "    <tr>\n",
              "      <th>1490</th>\n",
              "      <td>every hotel Piccadilly</td>\n",
              "      <td>Couple</td>\n",
              "    </tr>\n",
              "    <tr>\n",
              "      <th>1491</th>\n",
              "      <td>pentahotel Vienna</td>\n",
              "      <td>Couple</td>\n",
              "    </tr>\n",
              "  </tbody>\n",
              "</table>\n",
              "<p>1492 rows × 2 columns</p>\n",
              "</div>\n",
              "      <button class=\"colab-df-convert\" onclick=\"convertToInteractive('df-ca6eb900-1c91-4606-b2af-4d8435405944')\"\n",
              "              title=\"Convert this dataframe to an interactive table.\"\n",
              "              style=\"display:none;\">\n",
              "        \n",
              "  <svg xmlns=\"http://www.w3.org/2000/svg\" height=\"24px\"viewBox=\"0 0 24 24\"\n",
              "       width=\"24px\">\n",
              "    <path d=\"M0 0h24v24H0V0z\" fill=\"none\"/>\n",
              "    <path d=\"M18.56 5.44l.94 2.06.94-2.06 2.06-.94-2.06-.94-.94-2.06-.94 2.06-2.06.94zm-11 1L8.5 8.5l.94-2.06 2.06-.94-2.06-.94L8.5 2.5l-.94 2.06-2.06.94zm10 10l.94 2.06.94-2.06 2.06-.94-2.06-.94-.94-2.06-.94 2.06-2.06.94z\"/><path d=\"M17.41 7.96l-1.37-1.37c-.4-.4-.92-.59-1.43-.59-.52 0-1.04.2-1.43.59L10.3 9.45l-7.72 7.72c-.78.78-.78 2.05 0 2.83L4 21.41c.39.39.9.59 1.41.59.51 0 1.02-.2 1.41-.59l7.78-7.78 2.81-2.81c.8-.78.8-2.07 0-2.86zM5.41 20L4 18.59l7.72-7.72 1.47 1.35L5.41 20z\"/>\n",
              "  </svg>\n",
              "      </button>\n",
              "      \n",
              "  <style>\n",
              "    .colab-df-container {\n",
              "      display:flex;\n",
              "      flex-wrap:wrap;\n",
              "      gap: 12px;\n",
              "    }\n",
              "\n",
              "    .colab-df-convert {\n",
              "      background-color: #E8F0FE;\n",
              "      border: none;\n",
              "      border-radius: 50%;\n",
              "      cursor: pointer;\n",
              "      display: none;\n",
              "      fill: #1967D2;\n",
              "      height: 32px;\n",
              "      padding: 0 0 0 0;\n",
              "      width: 32px;\n",
              "    }\n",
              "\n",
              "    .colab-df-convert:hover {\n",
              "      background-color: #E2EBFA;\n",
              "      box-shadow: 0px 1px 2px rgba(60, 64, 67, 0.3), 0px 1px 3px 1px rgba(60, 64, 67, 0.15);\n",
              "      fill: #174EA6;\n",
              "    }\n",
              "\n",
              "    [theme=dark] .colab-df-convert {\n",
              "      background-color: #3B4455;\n",
              "      fill: #D2E3FC;\n",
              "    }\n",
              "\n",
              "    [theme=dark] .colab-df-convert:hover {\n",
              "      background-color: #434B5C;\n",
              "      box-shadow: 0px 1px 3px 1px rgba(0, 0, 0, 0.15);\n",
              "      filter: drop-shadow(0px 1px 2px rgba(0, 0, 0, 0.3));\n",
              "      fill: #FFFFFF;\n",
              "    }\n",
              "  </style>\n",
              "\n",
              "      <script>\n",
              "        const buttonEl =\n",
              "          document.querySelector('#df-ca6eb900-1c91-4606-b2af-4d8435405944 button.colab-df-convert');\n",
              "        buttonEl.style.display =\n",
              "          google.colab.kernel.accessAllowed ? 'block' : 'none';\n",
              "\n",
              "        async function convertToInteractive(key) {\n",
              "          const element = document.querySelector('#df-ca6eb900-1c91-4606-b2af-4d8435405944');\n",
              "          const dataTable =\n",
              "            await google.colab.kernel.invokeFunction('convertToInteractive',\n",
              "                                                     [key], {});\n",
              "          if (!dataTable) return;\n",
              "\n",
              "          const docLinkHtml = 'Like what you see? Visit the ' +\n",
              "            '<a target=\"_blank\" href=https://colab.research.google.com/notebooks/data_table.ipynb>data table notebook</a>'\n",
              "            + ' to learn more about interactive tables.';\n",
              "          element.innerHTML = '';\n",
              "          dataTable['output_type'] = 'display_data';\n",
              "          await google.colab.output.renderOutput(dataTable, element);\n",
              "          const docLink = document.createElement('div');\n",
              "          docLink.innerHTML = docLinkHtml;\n",
              "          element.appendChild(docLink);\n",
              "        }\n",
              "      </script>\n",
              "    </div>\n",
              "  </div>\n",
              "  "
            ]
          },
          "metadata": {},
          "execution_count": 542
        }
      ]
    },
    {
      "cell_type": "code",
      "source": [
        "auxilary_data['company_type'] = auxilary_data['company_type'].apply(auxilary_from_array)"
      ],
      "metadata": {
        "id": "6d8MmcjitVaV"
      },
      "execution_count": 543,
      "outputs": []
    },
    {
      "cell_type": "code",
      "source": [
        "merged = data.merge(\n",
        "    auxilary_data,\n",
        "    on='hotel_name',\n",
        "    how='left'\n",
        ")\n",
        "data = merged\n",
        "data = data.fillna({'company_type_x' : data['company_type_y']})\n",
        "data['company_type'] = data['company_type_x']"
      ],
      "metadata": {
        "id": "SZ1zFrtHT9sj"
      },
      "execution_count": 544,
      "outputs": []
    },
    {
      "cell_type": "markdown",
      "source": [
        "Удалим образовавшиеся ненужные столбцы"
      ],
      "metadata": {
        "id": "CGM6qnxWWmv4"
      }
    },
    {
      "cell_type": "code",
      "source": [
        "data = data.drop(['company_type_x', 'company_type_y'], axis=1)"
      ],
      "metadata": {
        "id": "2NoWohSCXdbr"
      },
      "execution_count": 545,
      "outputs": []
    },
    {
      "cell_type": "markdown",
      "source": [
        "### Разберем третий признак"
      ],
      "metadata": {
        "id": "QOq3py4pbTpp"
      }
    },
    {
      "cell_type": "code",
      "source": [
        "def room_clarifier(room_type):\n",
        "\n",
        "  room_type = room_type.lower()\n",
        "  if 'double' in room_type or 'twin' in room_type or 'triple' in room_type:\n",
        "    type1 = 'enlarged_room'\n",
        "  else:\n",
        "    type1 = 'simple_size'\n",
        "  if 'superior' in room_type or 'deluxe' in room_type or 'comfort' in room_type or 'executive' in room_type:\n",
        "    type2 = 'extracomfort'\n",
        "  else:\n",
        "    type2 = 'no_extra_comfort'\n",
        "  return type1 + \"_\" + type2\n",
        "\n"
      ],
      "metadata": {
        "id": "PR_IZ4cTknEC"
      },
      "execution_count": 546,
      "outputs": []
    },
    {
      "cell_type": "code",
      "source": [
        "def typeget3(tag):\n",
        "   tags = tag.lstrip(\"['\").rstrip(\"']\").split(\"', '\")\n",
        "   company = ['Couple', 'Solo traveler', 'Family with young children', 'Group', 'Family with older children', 'Travelers with friends' ]\n",
        "   try:\n",
        "    if str(tags[1]).strip() not in company:\n",
        "      typeroom = tags[1].strip()\n",
        "    try:\n",
        "      if 'Stayed' not in tags[2]:\n",
        "        typeroom = tags[2].strip()\n",
        "      else:\n",
        "        return np.nan\n",
        "    except:\n",
        "      return np.nan\n",
        "   except:\n",
        "      return np.nan\n",
        "   return room_clarifier(typeroom)\n",
        "   \n",
        "    \n",
        "data['room_type'] = data['tags'].apply(typeget3)\n",
        "data['room_type'].isnull().mean()"
      ],
      "metadata": {
        "colab": {
          "base_uri": "https://localhost:8080/"
        },
        "id": "iBxRawEQf2v1",
        "outputId": "d827da65-a709-426a-f81a-a3d8622960b6"
      },
      "execution_count": 547,
      "outputs": [
        {
          "output_type": "execute_result",
          "data": {
            "text/plain": [
              "0.028963063885233568"
            ]
          },
          "metadata": {},
          "execution_count": 547
        }
      ]
    },
    {
      "cell_type": "markdown",
      "source": [
        "Проведем предварительный анализ влияния типа комнаты на оценку"
      ],
      "metadata": {
        "id": "qHetnLV3zhI8"
      }
    },
    {
      "cell_type": "code",
      "source": [
        "sns.boxplot(data, x=\"reviewer_score\", y=\"room_type\")"
      ],
      "metadata": {
        "colab": {
          "base_uri": "https://localhost:8080/",
          "height": 0
        },
        "id": "RQnWhcFKqUPE",
        "outputId": "3a8fed7f-a7c3-428e-fde5-5bac7ee71e56"
      },
      "execution_count": 548,
      "outputs": [
        {
          "output_type": "execute_result",
          "data": {
            "text/plain": [
              "<Axes: xlabel='reviewer_score', ylabel='room_type'>"
            ]
          },
          "metadata": {},
          "execution_count": 548
        },
        {
          "output_type": "display_data",
          "data": {
            "text/plain": [
              "<Figure size 640x480 with 1 Axes>"
            ],
            "image/png": "[encoded data removed]"
          },
          "metadata": {}
        }
      ]
    },
    {
      "cell_type": "markdown",
      "source": [
        "Пустые значения заполним модой"
      ],
      "metadata": {
        "id": "kqZZU-6tYZUe"
      }
    },
    {
      "cell_type": "code",
      "source": [
        "data = data.fillna({'room_type' : data['room_type'].mode()[0]})"
      ],
      "metadata": {
        "id": "SVYYpdjrYQl2"
      },
      "execution_count": 549,
      "outputs": []
    },
    {
      "cell_type": "markdown",
      "source": [
        "### Разберем четвертый признак"
      ],
      "metadata": {
        "id": "9yKsq483bm7v"
      }
    },
    {
      "cell_type": "code",
      "source": [
        "def typeget4(tag):\n",
        "   tags = tag.lstrip(\"['\").rstrip(\"']\").split(\"', '\")\n",
        "   try:\n",
        "    if 'Stayed' in tags[2]:\n",
        "      tag = tags[2]\n",
        "    try:\n",
        "      if 'Stayed' in tags[3]:\n",
        "        tag = tags[3]\n",
        "      try:\n",
        "        if 'Stayed' in tags[4]:\n",
        "          tag = tags[4]\n",
        "      except:\n",
        "        return np.nan\n",
        "    except:\n",
        "      return np.nan\n",
        "   except:\n",
        "    return np.nan\n",
        "   else:\n",
        "    stay_dur = int(tag.split()[1])\n",
        "    if stay_dur >=7:\n",
        "      return \"More than a week\"\n",
        "    return str(stay_dur)\n",
        "data['stay_duration'] = data['tags'].apply(typeget4)\n",
        "data['stay_duration'].isnull().mean()"
      ],
      "metadata": {
        "colab": {
          "base_uri": "https://localhost:8080/"
        },
        "id": "E1dGfynSbtcZ",
        "outputId": "3ca9bb52-b7c4-485a-81d8-cee815a88419"
      },
      "execution_count": 550,
      "outputs": [
        {
          "output_type": "execute_result",
          "data": {
            "text/plain": [
              "0.4208473047003255"
            ]
          },
          "metadata": {},
          "execution_count": 550
        }
      ]
    },
    {
      "cell_type": "code",
      "source": [
        "data['stay_duration'].value_counts()"
      ],
      "metadata": {
        "colab": {
          "base_uri": "https://localhost:8080/"
        },
        "id": "oH--EfQC37CX",
        "outputId": "994cc7aa-eacc-416f-daa5-b6f220455414"
      },
      "execution_count": 551,
      "outputs": [
        {
          "output_type": "execute_result",
          "data": {
            "text/plain": [
              "1                   85054\n",
              "2                   58294\n",
              "3                   41734\n",
              "4                   20257\n",
              "5                    8691\n",
              "More than a week     5845\n",
              "6                    4143\n",
              "Name: stay_duration, dtype: int64"
            ]
          },
          "metadata": {},
          "execution_count": 551
        }
      ]
    },
    {
      "cell_type": "code",
      "source": [
        "sns.boxplot(data, x=\"reviewer_score\", y=\"stay_duration\")"
      ],
      "metadata": {
        "colab": {
          "base_uri": "https://localhost:8080/",
          "height": 0
        },
        "id": "MTuP3rQ12aon",
        "outputId": "5ff18e2c-2759-4da0-94e7-4eee7d35271e"
      },
      "execution_count": 552,
      "outputs": [
        {
          "output_type": "execute_result",
          "data": {
            "text/plain": [
              "<Axes: xlabel='reviewer_score', ylabel='stay_duration'>"
            ]
          },
          "metadata": {},
          "execution_count": 552
        },
        {
          "output_type": "display_data",
          "data": {
            "text/plain": [
              "<Figure size 640x480 with 1 Axes>"
            ],
            "image/png": "[encoded data removed]"
          },
          "metadata": {}
        }
      ]
    },
    {
      "cell_type": "code",
      "source": [
        "data = data.fillna({'stay_duration' : 'NoData'})"
      ],
      "metadata": {
        "id": "vjK8C8HLY7dA"
      },
      "execution_count": 553,
      "outputs": []
    },
    {
      "cell_type": "markdown",
      "source": [
        "несмотря на выраженность числом будем относиться к признаку как категориальному, пропущенные значения (которыз много) примем за харктеристику признака"
      ],
      "metadata": {
        "id": "iqMEF8zU5u09"
      }
    },
    {
      "cell_type": "markdown",
      "source": [
        "показатель бронирования через мобильное положение не представляется с точки зрения здравого смысла влияющим на оценку пользователя"
      ],
      "metadata": {
        "id": "e59cJbd2yBM8"
      }
    },
    {
      "cell_type": "markdown",
      "source": [
        "### Удалим столбец тэгов "
      ],
      "metadata": {
        "id": "45yRaDZnZfPz"
      }
    },
    {
      "cell_type": "code",
      "source": [
        "data = data.drop(['tags'], axis=1)"
      ],
      "metadata": {
        "id": "RVzqdwKmZZk4"
      },
      "execution_count": 554,
      "outputs": []
    },
    {
      "cell_type": "markdown",
      "source": [
        "## Добавим галочки для известных сетей отелей"
      ],
      "metadata": {
        "id": "augVGDQWQL8y"
      }
    },
    {
      "cell_type": "code",
      "source": [
        "list_of_famous_chains = ['Hilton', 'Renaissance', 'Marriott', 'Holiday Inn', 'Radisson', 'Mercure', 'Ritz']\n",
        "def chain_checker(full_name):\n",
        "  for chain in list_of_famous_chains:\n",
        "    if chain in full_name:\n",
        "      return True\n",
        "  return False\n",
        "\n",
        "\n",
        "\n",
        "data['chain'] = data['hotel_name'].apply(chain_checker)\n",
        "   "
      ],
      "metadata": {
        "id": "fOj2Uh957eOS"
      },
      "execution_count": 555,
      "outputs": []
    },
    {
      "cell_type": "markdown",
      "source": [
        "пропусков в данных нет, ящик с усами показывает, что у сетивиков оценки ниже"
      ],
      "metadata": {
        "id": "FDWKljgD-c2h"
      }
    },
    {
      "cell_type": "markdown",
      "source": [
        "получили бинарный признак"
      ],
      "metadata": {
        "id": "n0bMGnxcZOGh"
      }
    },
    {
      "cell_type": "markdown",
      "source": [
        "![image.png](data:image/png;base64,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)"
      ],
      "metadata": {
        "id": "co_1USdw-QvK"
      }
    },
    {
      "cell_type": "markdown",
      "source": [
        "Само название отеля в дальнейшем закодируем"
      ],
      "metadata": {
        "id": "pdNt1DK6Zatf"
      }
    },
    {
      "cell_type": "markdown",
      "source": [
        "## Поработаем со строкой адреса, из нее можно узнать следующие данные:\n",
        "- город отеля\n",
        "- сопоставивить расстояние от отеля до центра города из информации в столбцах lat и lng\n",
        "- страну\n",
        "- сопоставить, является ли поездка для рецензента внутри страны или заграничной\n"
      ],
      "metadata": {
        "id": "X74iR2e3NaDd"
      }
    },
    {
      "cell_type": "code",
      "source": [
        "def city_extracter(address):\n",
        "  for x in ['Amsterdam', 'London', 'Paris', 'Barcelona', 'Vienna', 'Milan']:\n",
        "    if x in address:\n",
        "      return x\n",
        "  \n",
        "data['city'] = data['hotel_address'].apply(city_extracter)"
      ],
      "metadata": {
        "id": "FYNufQ8nLo85"
      },
      "execution_count": 556,
      "outputs": []
    },
    {
      "cell_type": "code",
      "source": [
        "data['city'].value_counts()"
      ],
      "metadata": {
        "colab": {
          "base_uri": "https://localhost:8080/"
        },
        "id": "M95b0VlV_LHt",
        "outputId": "054a989f-a373-4eae-8382-bd768e7d5e82"
      },
      "execution_count": 557,
      "outputs": [
        {
          "output_type": "execute_result",
          "data": {
            "text/plain": [
              "London       196774\n",
              "Barcelona     45132\n",
              "Paris         44658\n",
              "Amsterdam     43178\n",
              "Vienna        29178\n",
              "Milan         27883\n",
              "Name: city, dtype: int64"
            ]
          },
          "metadata": {},
          "execution_count": 557
        }
      ]
    },
    {
      "cell_type": "markdown",
      "source": [
        "### Создадим признак: соответствует ли страна происхождения рецензента стране, где расположен отель"
      ],
      "metadata": {
        "id": "qzMsE-vcM_xy"
      }
    },
    {
      "cell_type": "code",
      "source": [
        "data['reviewer_nationality'].loc[5]"
      ],
      "metadata": {
        "colab": {
          "base_uri": "https://localhost:8080/",
          "height": 0
        },
        "id": "OzVniABELENo",
        "outputId": "a4e30cba-c243-445e-dc7a-995522abdf3f"
      },
      "execution_count": 558,
      "outputs": [
        {
          "output_type": "execute_result",
          "data": {
            "text/plain": [
              "' France '"
            ],
            "application/vnd.google.colaboratory.intrinsic+json": {
              "type": "string"
            }
          },
          "metadata": {},
          "execution_count": 558
        }
      ]
    },
    {
      "cell_type": "code",
      "source": [
        "def country_extracter(address):\n",
        "  for x in ['United Kingdom', 'Netherlands', 'France', 'Austria', 'Spain', 'Italy']:\n",
        "    if x in address:\n",
        "      return ' ' + x + ' '\n",
        "data['country'] = data['hotel_address'].apply(country_extracter)"
      ],
      "metadata": {
        "id": "yCssmW2bGZp0"
      },
      "execution_count": 559,
      "outputs": []
    },
    {
      "cell_type": "code",
      "source": [
        "data['inner_trip'] = data['country'] == data['reviewer_nationality']"
      ],
      "metadata": {
        "id": "-JLgQs4cKrZd"
      },
      "execution_count": 560,
      "outputs": []
    },
    {
      "cell_type": "code",
      "source": [
        "data = data.drop(['reviewer_nationality', 'country'], axis= 1)"
      ],
      "metadata": {
        "id": "4m0LJkDwccyQ"
      },
      "execution_count": 561,
      "outputs": []
    },
    {
      "cell_type": "markdown",
      "source": [
        "### Узнаем расстояние от центра через отдельно созданную таблицу с координатами центров городов"
      ],
      "metadata": {
        "id": "IYfIaAB9MiXt"
      }
    },
    {
      "cell_type": "code",
      "source": [
        "coordinates = pd.DataFrame({\n",
        "    'city': ['Amsterdam', 'London', 'Paris', 'Barcelona', 'Vienna', 'Milan'],\n",
        "    'latitude': [\t52.374,  \t51.5085, 48.8534, 41.3888, 48.2085, 45.4643],\n",
        "    'longitude': [4.88969, -0.12574,  2.3488, 2.15899, 16.3721, 9.18951]\n",
        "})"
      ],
      "metadata": {
        "id": "Tn03OvP25WwH"
      },
      "execution_count": 562,
      "outputs": []
    },
    {
      "cell_type": "markdown",
      "source": [
        "строки в которых значения широты и долготы пропущены подлежат удалению"
      ],
      "metadata": {
        "id": "zLBGivm7fq0T"
      }
    },
    {
      "cell_type": "code",
      "source": [
        "data = data.dropna(how='any', axis=0)"
      ],
      "metadata": {
        "id": "VTFwLsIhfkK8"
      },
      "execution_count": 563,
      "outputs": []
    },
    {
      "cell_type": "markdown",
      "source": [
        "Объединим таблицы"
      ],
      "metadata": {
        "id": "6ERf1UOTaJte"
      }
    },
    {
      "cell_type": "code",
      "source": [
        "merged = data.merge(\n",
        "    coordinates,\n",
        "    on='city',\n",
        "    how='left'\n",
        ")"
      ],
      "metadata": {
        "id": "1-QZPNE1_yB9"
      },
      "execution_count": 564,
      "outputs": []
    },
    {
      "cell_type": "markdown",
      "source": [
        "По побочным знаниям географии определим расстояние отелей от центра в метрах на основании координат центра и"
      ],
      "metadata": {
        "id": "nD4HHtb1Z5Jm"
      }
    },
    {
      "cell_type": "code",
      "source": [
        "lat_dif = 111*((merged['lat'] - merged['latitude'])**2)\n",
        "long_dif = 70*((merged['lng'] - merged['longitude'])**2)\n",
        "merged['distance_meteres'] = (long_dif + lat_dif) ** 0.5 \n",
        "data = merged"
      ],
      "metadata": {
        "id": "mWwJ9TiDDgfU"
      },
      "execution_count": 565,
      "outputs": []
    },
    {
      "cell_type": "code",
      "source": [
        "data['distance_meteres'].max()"
      ],
      "metadata": {
        "colab": {
          "base_uri": "https://localhost:8080/"
        },
        "id": "4lIfubOedWsA",
        "outputId": "f152b8a9-0c5e-466a-85bb-95d715102e5e"
      },
      "execution_count": 566,
      "outputs": [
        {
          "output_type": "execute_result",
          "data": {
            "text/plain": [
              "42.637080583583554"
            ]
          },
          "metadata": {},
          "execution_count": 566
        }
      ]
    },
    {
      "cell_type": "markdown",
      "source": [
        "Удалим ставшие ненужными признаки"
      ],
      "metadata": {
        "id": "VDEgWYhAbEkP"
      }
    },
    {
      "cell_type": "code",
      "source": [
        "data = data.drop(['lat', 'lng', 'latitude', 'longitude', 'hotel_address'], axis= 1)"
      ],
      "metadata": {
        "id": "9m1U9V1raY98"
      },
      "execution_count": 567,
      "outputs": []
    },
    {
      "cell_type": "markdown",
      "source": [],
      "metadata": {
        "id": "IGHaN1Ld5VO2"
      }
    },
    {
      "cell_type": "markdown",
      "source": [
        "## Разберем строки даты:\n",
        "- выделим даты посещения отеля\n",
        "- выделим сезон\n",
        "- промежуток времени, через который был оставлен отзыв"
      ],
      "metadata": {
        "id": "uU9N4SHdPNW1"
      }
    },
    {
      "cell_type": "code",
      "source": [
        "data['review_date']"
      ],
      "metadata": {
        "colab": {
          "base_uri": "https://localhost:8080/"
        },
        "id": "ituNY2lkPBU-",
        "outputId": "a058bd7d-4f35-4292-d934-201132813ded"
      },
      "execution_count": 568,
      "outputs": [
        {
          "output_type": "execute_result",
          "data": {
            "text/plain": [
              "0          2/19/2016\n",
              "1          1/12/2017\n",
              "2         10/18/2016\n",
              "3          9/22/2015\n",
              "4           3/5/2016\n",
              "             ...    \n",
              "384350     4/19/2017\n",
              "384351     2/13/2017\n",
              "384352      2/7/2016\n",
              "384353     5/21/2017\n",
              "384354      8/5/2016\n",
              "Name: review_date, Length: 384355, dtype: object"
            ]
          },
          "metadata": {},
          "execution_count": 568
        }
      ]
    },
    {
      "cell_type": "code",
      "source": [
        "data['review_date'] = pd.to_datetime(data['review_date'])"
      ],
      "metadata": {
        "id": "rrNO6Ao6OrzQ"
      },
      "execution_count": 569,
      "outputs": []
    },
    {
      "cell_type": "code",
      "source": [
        "data['season'] = data['review_date'].dt.month.apply(lambda x: 'summer' if x in [12,1,2] else 'spring' if x in [3,4,5] else 'autumn' if x in [6,7,8] else 'winter')"
      ],
      "metadata": {
        "id": "q_iMlGuHQhim"
      },
      "execution_count": 570,
      "outputs": []
    },
    {
      "cell_type": "markdown",
      "source": [
        "Не могу сделать логическую интерпретацию признака срока размещения рецензии, поэтому удалим этот признак "
      ],
      "metadata": {
        "id": "wNOKxJ4lQbrj"
      }
    },
    {
      "cell_type": "code",
      "source": [
        "data['days_since_review']"
      ],
      "metadata": {
        "colab": {
          "base_uri": "https://localhost:8080/"
        },
        "id": "GAEcSkBrOLzG",
        "outputId": "204855bc-8a2d-4fc7-ab69-dbb59a33fc0d"
      },
      "execution_count": 571,
      "outputs": [
        {
          "output_type": "execute_result",
          "data": {
            "text/plain": [
              "0         531 day\n",
              "1         203 day\n",
              "2         289 day\n",
              "3         681 day\n",
              "4         516 day\n",
              "           ...   \n",
              "384350    106 day\n",
              "384351    171 day\n",
              "384352    543 day\n",
              "384353    74 days\n",
              "384354    363 day\n",
              "Name: days_since_review, Length: 384355, dtype: object"
            ]
          },
          "metadata": {},
          "execution_count": 571
        }
      ]
    },
    {
      "cell_type": "markdown",
      "source": [
        "Удалим признаки даты и дней с момента размещения рецензии"
      ],
      "metadata": {
        "id": "GamsJXImbRMD"
      }
    },
    {
      "cell_type": "code",
      "source": [
        "data = data.drop(['days_since_review', 'review_date'], axis= 1)"
      ],
      "metadata": {
        "id": "A0FFM4DxbYJt"
      },
      "execution_count": 572,
      "outputs": []
    },
    {
      "cell_type": "markdown",
      "source": [
        "## Из текстов рецензий выделим основные причины недовольства или удовлетворенности клиентов"
      ],
      "metadata": {
        "id": "xwtZniPQPmsz"
      }
    },
    {
      "cell_type": "markdown",
      "source": [
        "### Персонал"
      ],
      "metadata": {
        "id": "mKgpz4I8D5lb"
      }
    },
    {
      "cell_type": "code",
      "source": [
        "func1 = lambda x: True if 'staff' in x.lower() or 'service' in x.lower() else False\n",
        "data['positive_attitude'] = data['positive_review'].apply(func1)\n",
        "data['negative_attitude'] = data['negative_review'].apply(func1)"
      ],
      "metadata": {
        "id": "l7RByc6NDisG"
      },
      "execution_count": 573,
      "outputs": []
    },
    {
      "cell_type": "markdown",
      "source": [
        "### Состояние номеров\n"
      ],
      "metadata": {
        "id": "30EyWvdOQCns"
      }
    },
    {
      "cell_type": "code",
      "source": [
        "data['positive_comfort_level'] = data['positive_review'].apply(lambda x: True if 'room' in x.lower() or 'comfort' in x.lower() or 'comfy' in x.lower() or 'clean' in x.lower() else False)\n",
        "data['negative_comfort_level'] = data['negative_review'].apply(lambda x: True if 'room' in x.lower() or 'air cond' in x.lower() or 'smell' in x.lower() or 'dirt' in x.lower()\n",
        "or 'filthy' in x.lower() or 'airdond' in x.lower()  or 'stink' in x.lower() else False)"
      ],
      "metadata": {
        "id": "w7O6WlJrEfr6"
      },
      "execution_count": 574,
      "outputs": []
    },
    {
      "cell_type": "markdown",
      "source": [
        "### Расположение"
      ],
      "metadata": {
        "id": "qYwziRb_QDul"
      }
    },
    {
      "cell_type": "code",
      "source": [
        "func1 = lambda x: True if 'locat' in x.lower() or 'walk' in x.lower() or 'metro' in x.lower() or 'underground' in x.lower() or 'view' in x.lower() or 'subway' in x.lower() else False\n",
        "data['positive_location'] = data['positive_review'].apply(func1)\n",
        "data['negative_location'] = data['negative_review'].apply(func1)"
      ],
      "metadata": {
        "id": "a2oiTFmxG1RN"
      },
      "execution_count": 575,
      "outputs": []
    },
    {
      "cell_type": "code",
      "source": [
        "data = data.drop(['positive_review', 'negative_review'], axis= 1)"
      ],
      "metadata": {
        "id": "eYh0gXr1bsid"
      },
      "execution_count": 576,
      "outputs": []
    },
    {
      "cell_type": "code",
      "source": [
        "data.info()"
      ],
      "metadata": {
        "colab": {
          "base_uri": "https://localhost:8080/"
        },
        "id": "DYOM_yoodZzX",
        "outputId": "988aa9f4-b872-4af4-9626-4ae81e68f4a9"
      },
      "execution_count": 577,
      "outputs": [
        {
          "output_type": "stream",
          "name": "stdout",
          "text": [
            "<class 'pandas.core.frame.DataFrame'>\n",
            "Int64Index: 384355 entries, 0 to 384354\n",
            "Data columns (total 23 columns):\n",
            " #   Column                                      Non-Null Count   Dtype  \n",
            "---  ------                                      --------------   -----  \n",
            " 0   additional_number_of_scoring                384355 non-null  int64  \n",
            " 1   average_score                               384355 non-null  float64\n",
            " 2   hotel_name                                  384355 non-null  object \n",
            " 3   review_total_negative_word_counts           384355 non-null  int64  \n",
            " 4   total_number_of_reviews                     384355 non-null  int64  \n",
            " 5   review_total_positive_word_counts           384355 non-null  int64  \n",
            " 6   total_number_of_reviews_reviewer_has_given  384355 non-null  int64  \n",
            " 7   reviewer_score                              384355 non-null  float64\n",
            " 8   trip_type                                   384355 non-null  bool   \n",
            " 9   company_type                                384355 non-null  object \n",
            " 10  room_type                                   384355 non-null  object \n",
            " 11  stay_duration                               384355 non-null  object \n",
            " 12  chain                                       384355 non-null  bool   \n",
            " 13  city                                        384355 non-null  object \n",
            " 14  inner_trip                                  384355 non-null  bool   \n",
            " 15  distance_meteres                            384355 non-null  float64\n",
            " 16  season                                      384355 non-null  object \n",
            " 17  positive_attitude                           384355 non-null  bool   \n",
            " 18  negative_attitude                           384355 non-null  bool   \n",
            " 19  positive_comfort_level                      384355 non-null  bool   \n",
            " 20  negative_comfort_level                      384355 non-null  bool   \n",
            " 21  positive_location                           384355 non-null  bool   \n",
            " 22  negative_location                           384355 non-null  bool   \n",
            "dtypes: bool(9), float64(3), int64(5), object(6)\n",
            "memory usage: 47.3+ MB\n"
          ]
        }
      ]
    },
    {
      "cell_type": "markdown",
      "source": [
        "# Проведем анализ корреляций и нормализацию признаков"
      ],
      "metadata": {
        "id": "Q_rJiwSegyLf"
      }
    },
    {
      "cell_type": "code",
      "source": [
        "sns.heatmap(data.corr())"
      ],
      "metadata": {
        "colab": {
          "base_uri": "https://localhost:8080/",
          "height": 811
        },
        "id": "-UJlM6fxgkTz",
        "outputId": "3a9f45b5-b08c-4caa-e227-93c766509b9d"
      },
      "execution_count": 578,
      "outputs": [
        {
          "output_type": "stream",
          "name": "stderr",
          "text": [
            "<ipython-input-578-8b96879b4d02>:1: FutureWarning: The default value of numeric_only in DataFrame.corr is deprecated. In a future version, it will default to False. Select only valid columns or specify the value of numeric_only to silence this warning.\n",
            "  sns.heatmap(data.corr())\n"
          ]
        },
        {
          "output_type": "execute_result",
          "data": {
            "text/plain": [
              "<Axes: >"
            ]
          },
          "metadata": {},
          "execution_count": 578
        },
        {
          "output_type": "display_data",
          "data": {
            "text/plain": [
              "<Figure size 640x480 with 2 Axes>"
            ],
            "image/png": "[encoded data removed]"
          },
          "metadata": {}
        }
      ]
    },
    {
      "cell_type": "markdown",
      "source": [
        "все полученные данные являются значимыми для ключевого признака и не имеют мультиколлинеарности"
      ],
      "metadata": {
        "id": "bhf4UJBMg4Ar"
      }
    },
    {
      "cell_type": "markdown",
      "source": [
        "как было показано на боксплотах ранее - большинство отзывывов приближаются к 9-10, значит нужно провести нормализацию признака отзывы, использую е"
      ],
      "metadata": {
        "id": "M7eqtcNYhLDD"
      }
    },
    {
      "cell_type": "markdown",
      "source": [
        "проведем тест для определения нормальности данных"
      ],
      "metadata": {
        "id": "6xHpgx03izjV"
      }
    },
    {
      "cell_type": "code",
      "source": [
        "from scipy.stats import normaltest\n"
      ],
      "metadata": {
        "id": "KFlzoXnQi2xw"
      },
      "execution_count": 579,
      "outputs": []
    },
    {
      "cell_type": "code",
      "source": [
        "_, p = normaltest(data['reviewer_score'])\n",
        "#normaltest возвращает двустороннюю вероятность для проверки гипотезы\n",
        "\n",
        "_,p"
      ],
      "metadata": {
        "colab": {
          "base_uri": "https://localhost:8080/"
        },
        "id": "rZCm1DMZi6dD",
        "outputId": "cde306eb-ba6b-4149-def7-4115dc9d756e"
      },
      "execution_count": 580,
      "outputs": [
        {
          "output_type": "execute_result",
          "data": {
            "text/plain": [
              "(66176.13435526748, 0.0)"
            ]
          },
          "metadata": {},
          "execution_count": 580
        }
      ]
    },
    {
      "cell_type": "markdown",
      "source": [
        "логарифмируем целевой признак"
      ],
      "metadata": {
        "id": "TZai5jNB3XCu"
      }
    },
    {
      "cell_type": "code",
      "source": [
        "data['reviewer_score'] = np.log(data['reviewer_score'] + 1)"
      ],
      "metadata": {
        "id": "ol49kplg2s4k"
      },
      "execution_count": 581,
      "outputs": []
    },
    {
      "cell_type": "markdown",
      "source": [
        "# Перейдем к кодировке категориальных признаков "
      ],
      "metadata": {
        "id": "Jnacdc9FWqUo"
      }
    },
    {
      "cell_type": "code",
      "source": [
        "!pip install category_encoders\n",
        "import category_encoders as ce"
      ],
      "metadata": {
        "colab": {
          "base_uri": "https://localhost:8080/"
        },
        "id": "SvLHj9bNcECo",
        "outputId": "0476932c-b793-4ccb-f1e7-ca7fd0e70c6c"
      },
      "execution_count": 582,
      "outputs": [
        {
          "output_type": "stream",
          "name": "stdout",
          "text": [
            "Looking in indexes: https://pypi.org/simple, https://us-python.pkg.dev/colab-wheels/public/simple/\n",
            "Requirement already satisfied: category_encoders in /usr/local/lib/python3.10/dist-packages (2.6.1)\n",
            "Requirement already satisfied: numpy>=1.14.0 in /usr/local/lib/python3.10/dist-packages (from category_encoders) (1.22.4)\n",
            "Requirement already satisfied: scikit-learn>=0.20.0 in /usr/local/lib/python3.10/dist-packages (from category_encoders) (1.2.2)\n",
            "Requirement already satisfied: scipy>=1.0.0 in /usr/local/lib/python3.10/dist-packages (from category_encoders) (1.10.1)\n",
            "Requirement already satisfied: statsmodels>=0.9.0 in /usr/local/lib/python3.10/dist-packages (from category_encoders) (0.13.5)\n",
            "Requirement already satisfied: pandas>=1.0.5 in /usr/local/lib/python3.10/dist-packages (from category_encoders) (1.5.3)\n",
            "Requirement already satisfied: patsy>=0.5.1 in /usr/local/lib/python3.10/dist-packages (from category_encoders) (0.5.3)\n",
            "Requirement already satisfied: python-dateutil>=2.8.1 in /usr/local/lib/python3.10/dist-packages (from pandas>=1.0.5->category_encoders) (2.8.2)\n",
            "Requirement already satisfied: pytz>=2020.1 in /usr/local/lib/python3.10/dist-packages (from pandas>=1.0.5->category_encoders) (2022.7.1)\n",
            "Requirement already satisfied: six in /usr/local/lib/python3.10/dist-packages (from patsy>=0.5.1->category_encoders) (1.16.0)\n",
            "Requirement already satisfied: joblib>=1.1.1 in /usr/local/lib/python3.10/dist-packages (from scikit-learn>=0.20.0->category_encoders) (1.2.0)\n",
            "Requirement already satisfied: threadpoolctl>=2.0.0 in /usr/local/lib/python3.10/dist-packages (from scikit-learn>=0.20.0->category_encoders) (3.1.0)\n",
            "Requirement already satisfied: packaging>=21.3 in /usr/local/lib/python3.10/dist-packages (from statsmodels>=0.9.0->category_encoders) (23.1)\n"
          ]
        }
      ]
    },
    {
      "cell_type": "markdown",
      "source": [
        "## Применим однократное кодирование для времени года, города типа комнаты и типа поездки с другими людьми"
      ],
      "metadata": {
        "id": "bzJynAYTiMf-"
      }
    },
    {
      "cell_type": "code",
      "source": [
        "data = pd.get_dummies(data, columns= ['season', 'city', 'room_type', 'company_type'])"
      ],
      "metadata": {
        "id": "rWbO_4tqzQ8-"
      },
      "execution_count": 583,
      "outputs": []
    },
    {
      "cell_type": "markdown",
      "source": [
        "## Применим порядковое кодирование для времени пребывания"
      ],
      "metadata": {
        "id": "O1HZr0Sfhppi"
      }
    },
    {
      "cell_type": "code",
      "source": [
        "ord_encoder = ce.OrdinalEncoder()\n",
        "data_bin = ord_encoder.fit_transform(data['stay_duration'])\n",
        "data = data.drop(['stay_duration'], axis= 1)\n",
        "data = pd.concat([data, data_bin], axis=1)"
      ],
      "metadata": {
        "id": "5lvZcrnob37W"
      },
      "execution_count": 584,
      "outputs": []
    },
    {
      "cell_type": "markdown",
      "source": [
        "## Используем двоичное кодирование для кодировки отеля"
      ],
      "metadata": {
        "id": "HEDopHij0TmP"
      }
    },
    {
      "cell_type": "code",
      "source": [
        "bin_encoder = ce.BinaryEncoder(cols=['hotel_name']) # указываем столбец для кодирования\n",
        "type_bin = bin_encoder.fit_transform(data['hotel_name'])\n",
        "data = pd.concat([data, type_bin], axis=1)\n",
        "\n"
      ],
      "metadata": {
        "id": "UxQrN3ZB0HZs"
      },
      "execution_count": 585,
      "outputs": []
    },
    {
      "cell_type": "code",
      "source": [
        "data = data.drop(['hotel_name'], axis= 1)"
      ],
      "metadata": {
        "id": "lH9rlRp71PBx"
      },
      "execution_count": 586,
      "outputs": []
    },
    {
      "cell_type": "code",
      "source": [
        "data.info()"
      ],
      "metadata": {
        "colab": {
          "base_uri": "https://localhost:8080/"
        },
        "id": "IsUrp0ph1rY0",
        "outputId": "10387977-8eb2-44db-828e-211e52101a54"
      },
      "execution_count": 587,
      "outputs": [
        {
          "output_type": "stream",
          "name": "stdout",
          "text": [
            "<class 'pandas.core.frame.DataFrame'>\n",
            "Int64Index: 384355 entries, 0 to 384354\n",
            "Data columns (total 49 columns):\n",
            " #   Column                                      Non-Null Count   Dtype  \n",
            "---  ------                                      --------------   -----  \n",
            " 0   additional_number_of_scoring                384355 non-null  int64  \n",
            " 1   average_score                               384355 non-null  float64\n",
            " 2   review_total_negative_word_counts           384355 non-null  int64  \n",
            " 3   total_number_of_reviews                     384355 non-null  int64  \n",
            " 4   review_total_positive_word_counts           384355 non-null  int64  \n",
            " 5   total_number_of_reviews_reviewer_has_given  384355 non-null  int64  \n",
            " 6   reviewer_score                              384355 non-null  float64\n",
            " 7   trip_type                                   384355 non-null  bool   \n",
            " 8   chain                                       384355 non-null  bool   \n",
            " 9   inner_trip                                  384355 non-null  bool   \n",
            " 10  distance_meteres                            384355 non-null  float64\n",
            " 11  positive_attitude                           384355 non-null  bool   \n",
            " 12  negative_attitude                           384355 non-null  bool   \n",
            " 13  positive_comfort_level                      384355 non-null  bool   \n",
            " 14  negative_comfort_level                      384355 non-null  bool   \n",
            " 15  positive_location                           384355 non-null  bool   \n",
            " 16  negative_location                           384355 non-null  bool   \n",
            " 17  season_autumn                               384355 non-null  uint8  \n",
            " 18  season_spring                               384355 non-null  uint8  \n",
            " 19  season_summer                               384355 non-null  uint8  \n",
            " 20  season_winter                               384355 non-null  uint8  \n",
            " 21  city_Amsterdam                              384355 non-null  uint8  \n",
            " 22  city_Barcelona                              384355 non-null  uint8  \n",
            " 23  city_London                                 384355 non-null  uint8  \n",
            " 24  city_Milan                                  384355 non-null  uint8  \n",
            " 25  city_Paris                                  384355 non-null  uint8  \n",
            " 26  city_Vienna                                 384355 non-null  uint8  \n",
            " 27  room_type_enlarged_room_extracomfort        384355 non-null  uint8  \n",
            " 28  room_type_enlarged_room_no_extra_comfort    384355 non-null  uint8  \n",
            " 29  room_type_simple_size_extracomfort          384355 non-null  uint8  \n",
            " 30  room_type_simple_size_no_extra_comfort      384355 non-null  uint8  \n",
            " 31  company_type_Couple                         384355 non-null  uint8  \n",
            " 32  company_type_Family with older children     384355 non-null  uint8  \n",
            " 33  company_type_Family with young children     384355 non-null  uint8  \n",
            " 34  company_type_Group                          384355 non-null  uint8  \n",
            " 35  company_type_Solo traveler                  384355 non-null  uint8  \n",
            " 36  company_type_Travelers with friends         384355 non-null  uint8  \n",
            " 37  stay_duration                               384355 non-null  int64  \n",
            " 38  hotel_name_0                                384355 non-null  int64  \n",
            " 39  hotel_name_1                                384355 non-null  int64  \n",
            " 40  hotel_name_2                                384355 non-null  int64  \n",
            " 41  hotel_name_3                                384355 non-null  int64  \n",
            " 42  hotel_name_4                                384355 non-null  int64  \n",
            " 43  hotel_name_5                                384355 non-null  int64  \n",
            " 44  hotel_name_6                                384355 non-null  int64  \n",
            " 45  hotel_name_7                                384355 non-null  int64  \n",
            " 46  hotel_name_8                                384355 non-null  int64  \n",
            " 47  hotel_name_9                                384355 non-null  int64  \n",
            " 48  hotel_name_10                               384355 non-null  int64  \n",
            "dtypes: bool(9), float64(3), int64(17), uint8(20)\n",
            "memory usage: 72.2 MB\n"
          ]
        }
      ]
    },
    {
      "cell_type": "markdown",
      "source": [
        "# Обучим модель"
      ],
      "metadata": {
        "id": "fjCumv87PJ0y"
      }
    },
    {
      "cell_type": "code",
      "source": [
        "# Разбиваем датафрейм на части, необходимые для обучения и тестирования модели  \n",
        "# Х - данные с информацией об отелях, у - целевая переменная (рейтинги отелей)  \n",
        "X = data.drop(['reviewer_score'], axis = 1)  \n",
        "y = data['reviewer_score'] \n",
        "# Загружаем специальный инструмент для разбивки:  \n",
        "from sklearn.model_selection import train_test_split  \n",
        "# Наборы данных с меткой \"train\" будут использоваться для обучения модели, \"test\" - для тестирования.  \n",
        "# Для тестирования мы будем использовать 25% от исходного датасета.  \n",
        "X_train, X_test, y_train, y_test = train_test_split(X, y, test_size=0.25, random_state=42)\n",
        "# Импортируем необходимые библиотеки:  \n",
        "from sklearn.ensemble import RandomForestRegressor # инструмент для создания и обучения модели  \n",
        "from sklearn import metrics # инструменты для оценки точности модели  \n",
        "  \n",
        "# Создаём модель  \n",
        "regr = RandomForestRegressor(n_estimators=100)  \n",
        "      \n",
        "# Обучаем модель на тестовом наборе данных  \n",
        "regr.fit(X_train, y_train)  \n",
        "      \n",
        "# Используем обученную модель для предсказания рейтинга отелей в тестовой выборке.  \n",
        "# Предсказанные значения записываем в переменную y_pred  \n",
        "y_pred = regr.predict(X_test)  \n",
        "# Сравниваем предсказанные значения (y_pred) с реальными (y_test), и смотрим насколько они отличаются  \n",
        "# Метрика называется Mean Absolute Percentage Error (MAPE) и показывает среднюю абсолютную процентную ошибку предсказанных значений от фактических.  \n",
        "print('MAPE:', metrics.mean_absolute_percentage_error(y_test, y_pred))"
      ],
      "metadata": {
        "colab": {
          "base_uri": "https://localhost:8080/"
        },
        "id": "6VEopbs5Amcz",
        "outputId": "b69f8b77-7299-4209-c23b-33dd88bd4533"
      },
      "execution_count": 588,
      "outputs": [
        {
          "output_type": "stream",
          "name": "stdout",
          "text": [
            "MAPE: 0.05303961391770697\n"
          ]
        }
      ]
    }
  ]
}